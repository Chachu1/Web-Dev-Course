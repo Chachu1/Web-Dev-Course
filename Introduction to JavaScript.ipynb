{
 "cells": [
  {
   "cell_type": "code",
   "execution_count": 1,
   "metadata": {},
   "outputs": [
    {
     "name": "stdout",
     "output_type": "stream",
     "text": [
      "Hellow World\n"
     ]
    }
   ],
   "source": [
    "console.log('Hellow World')"
   ]
  },
  {
   "cell_type": "code",
   "execution_count": 10,
   "metadata": {},
   "outputs": [],
   "source": [
    "var nameVar = 'mohsin hassan';"
   ]
  },
  {
   "cell_type": "code",
   "execution_count": 29,
   "metadata": {},
   "outputs": [
    {
     "name": "stdout",
     "output_type": "stream",
     "text": [
      "Mohsin\n"
     ]
    }
   ],
   "source": [
    "var name = prompt('What is your name?');\n",
    "var firstChar = name.slice(0,1);\n",
    "firstChar = firstChar.toUpperCase();\n",
    "var allOtherChar = name.slice(1,name.length);\n",
    "console.log(\n",
    "    firstChar + allOtherChar\n",
    ");\n"
   ]
  },
  {
   "cell_type": "markdown",
   "metadata": {},
   "source": [
    "### 87. Basic Arithmetic and the Modulo Operator in Javascript"
   ]
  },
  {
   "cell_type": "markdown",
   "metadata": {},
   "source": [
    " - Calcuate DogYears \\\n",
    " humanAge = (dogAge - 2) X 4 + 21"
   ]
  },
  {
   "cell_type": "code",
   "execution_count": 2,
   "metadata": {},
   "outputs": [
    {
     "name": "stdout",
     "output_type": "stream",
     "text": [
      "41\n"
     ]
    }
   ],
   "source": [
    "var dogAge = prompt(\"Please enter your Dogs Age\");\n",
    "var humanAge = ((dogAge - 2)*4 )+21\n",
    "console.log(humanAge)"
   ]
  },
  {
   "cell_type": "markdown",
   "metadata": {},
   "source": [
    "### 88. Increment and Decrement Expressions"
   ]
  },
  {
   "cell_type": "code",
   "execution_count": 3,
   "metadata": {},
   "outputs": [
    {
     "data": {
      "text/plain": [
       "\u001b[33m4\u001b[39m"
      ]
     },
     "execution_count": 3,
     "metadata": {},
     "output_type": "execute_result"
    }
   ],
   "source": [
    "var x = 3;\n",
    "var y = x++;\n",
    "y += 1;\n",
    "y"
   ]
  },
  {
   "cell_type": "markdown",
   "metadata": {},
   "source": [
    "### 89. Functions Part 1: Creating and Calling Functions"
   ]
  },
  {
   "cell_type": "markdown",
   "metadata": {},
   "source": [
    "### 93. Functions Part 2: Parameters and Arguments\n"
   ]
  },
  {
   "cell_type": "code",
   "execution_count": 11,
   "metadata": {},
   "outputs": [],
   "source": [
    "function getMilk(money) {\n",
    "    //Each bottle is 1.5  \n",
    "    var changeBack = money % 1.5;\n",
    "    var numberOfBottles = (money - changeBack) / 1.5;\n",
    "    \n",
    "    console.log(\"leaveHouse\");\n",
    "    console.log(\"Buy \" + numberOfBottles + \" bottles of Milk\" );\n",
    "    console.log(\"enterHouse\");\n",
    "    console.log(\"Your change is \" + changeBack);\n",
    "  }"
   ]
  },
  {
   "cell_type": "code",
   "execution_count": 12,
   "metadata": {},
   "outputs": [
    {
     "name": "stdout",
     "output_type": "stream",
     "text": [
      "leaveHouse\n",
      "Buy 8 bottles of Milk\n",
      "enterHouse\n",
      "Your change is 1\n"
     ]
    }
   ],
   "source": [
    "getMilk(13);"
   ]
  },
  {
   "cell_type": "code",
   "execution_count": 15,
   "metadata": {},
   "outputs": [],
   "source": [
    "function getMilk(money) {\n",
    "    //Each bottle is 1.5  \n",
    "    var changeBack = money % 1.5;\n",
    "    var numberOfBottles = Math.floor(money / 1.5);\n",
    "    \n",
    "    console.log(\"leaveHouse\");\n",
    "    console.log(\"Buy \" + numberOfBottles + \" bottles of Milk\" );\n",
    "    console.log(\"enterHouse\");\n",
    "    console.log(\"Your change is \" + changeBack);\n",
    "  }"
   ]
  },
  {
   "cell_type": "code",
   "execution_count": 16,
   "metadata": {},
   "outputs": [
    {
     "name": "stdout",
     "output_type": "stream",
     "text": [
      "leaveHouse\n",
      "Buy 8 bottles of Milk\n",
      "enterHouse\n",
      "Your change is 1\n"
     ]
    }
   ],
   "source": [
    "getMilk(13);"
   ]
  },
  {
   "cell_type": "markdown",
   "metadata": {},
   "source": [
    "#### 94. Life in Weeks"
   ]
  },
  {
   "cell_type": "code",
   "execution_count": 19,
   "metadata": {},
   "outputs": [],
   "source": [
    "function lifeInWeeks(age){\n",
    "    var balanceAge = 90 - age;\n",
    "    var days = balanceAge * 365;\n",
    "    var weeks = balanceAge * 52;\n",
    "    var months = balanceAge * 12;\n",
    "\n",
    "    console.log(\"You have \" + days +\" days, \"+weeks+\" weeks, and \"+months+\" months left.\")\n",
    "\n",
    "}"
   ]
  },
  {
   "cell_type": "code",
   "execution_count": 20,
   "metadata": {},
   "outputs": [
    {
     "name": "stdout",
     "output_type": "stream",
     "text": [
      "You have 18980 days, 2704 weeks, and 624 months left.\n"
     ]
    }
   ],
   "source": [
    "lifeInWeeks(38)"
   ]
  },
  {
   "cell_type": "markdown",
   "metadata": {},
   "source": [
    "#### 95. Functions Part 3: Outputs & Return Values"
   ]
  },
  {
   "cell_type": "code",
   "execution_count": 21,
   "metadata": {},
   "outputs": [],
   "source": [
    "function getMilk(money) {\n",
    "    //Each bottle is 1.5  \n",
    "    var changeBack = money % 1.5;\n",
    "    var numberOfBottles = (money - changeBack) / 1.5;\n",
    "    \n",
    "    console.log(\"leaveHouse\");\n",
    "    console.log(\"Buy \" + numberOfBottles + \" bottles of Milk\" );\n",
    "    console.log(\"enterHouse\");\n",
    "    console.log(\"Your change is \" + changeBack);\n",
    "    return changeBack;\n",
    "  }"
   ]
  },
  {
   "cell_type": "code",
   "execution_count": 23,
   "metadata": {},
   "outputs": [
    {
     "name": "stdout",
     "output_type": "stream",
     "text": [
      "leaveHouse\n",
      "Buy 20 bottles of Milk\n",
      "enterHouse\n",
      "Your change is 1\n"
     ]
    },
    {
     "data": {
      "text/plain": [
       "\u001b[33m1\u001b[39m"
      ]
     },
     "execution_count": 23,
     "metadata": {},
     "output_type": "execute_result"
    }
   ],
   "source": [
    "var change = getMilk(31);\n",
    "change"
   ]
  },
  {
   "cell_type": "markdown",
   "metadata": {},
   "source": [
    "#### 96. Challenge: Create a BMI Calculator"
   ]
  },
  {
   "cell_type": "code",
   "execution_count": 30,
   "metadata": {},
   "outputs": [],
   "source": [
    "function bmiCalculator(weight, height){\n",
    "    var bmi = weight / Math.pow(height,2)\n",
    "    return Math.round( bmi)\n",
    "}"
   ]
  },
  {
   "cell_type": "markdown",
   "metadata": {},
   "source": [
    "#### 99. Random Number Generation in Javascript: Building a Love Calculator"
   ]
  },
  {
   "cell_type": "code",
   "execution_count": 9,
   "metadata": {},
   "outputs": [],
   "source": [
    "function loveCalculator(){\n",
    "    prompt(\"What is your name\");\n",
    "    prompt(\"Second Name\");\n",
    "    var randomNum = Math.random()*100;\n",
    "    randomNum = Math.floor(randomNum)\n",
    "\n",
    "    return randomNum+\"%\" \n",
    "}"
   ]
  },
  {
   "cell_type": "markdown",
   "metadata": {},
   "source": [
    "#### Coding Exercise 5: Leap Year Challenge Exercise"
   ]
  },
  {
   "cell_type": "code",
   "execution_count": 26,
   "metadata": {},
   "outputs": [],
   "source": [
    "function isLeap(year){\n",
    "    if (year%4 === 0) {\n",
    "        if (year%100 === 0){\n",
    "            if (year%400 === 0){\n",
    "                return 'Leap year.'\n",
    "            }\n",
    "            else {\n",
    "                return 'Not leap year.'\n",
    "            }\n",
    "\n",
    "        }\n",
    "        else { return 'Leap year.'}\n",
    "    }\n",
    "    else { return \"Not leap year.\"}\n",
    "\n",
    "\n",
    "}"
   ]
  },
  {
   "cell_type": "markdown",
   "metadata": {},
   "source": [
    "#### 105. Collections: Working with Javascript Arrays\n"
   ]
  },
  {
   "cell_type": "code",
   "execution_count": 30,
   "metadata": {},
   "outputs": [
    {
     "name": "stdout",
     "output_type": "stream",
     "text": [
      "Welcome\n"
     ]
    }
   ],
   "source": [
    "var guestList = [\n",
    "    \"Angela\",\n",
    "    \"Jack\",\n",
    "    \"Pam\",\n",
    "    \"James\",\n",
    "    \"Lara\",\n",
    "    \"Jason\"\n",
    "];\n",
    "\n",
    "var guestName = prompt(\"What is your name\");\n",
    "if (guestList.includes(guestName)){\n",
    "    console.log(\"Welcome\")\n",
    "}\n",
    "else {console.log(\"Sorry not on list\")}"
   ]
  },
  {
   "cell_type": "markdown",
   "metadata": {},
   "source": [
    "#### 106. Adding Elements and Intermediate Array Techniques"
   ]
  },
  {
   "cell_type": "code",
   "execution_count": 119,
   "metadata": {},
   "outputs": [],
   "source": [
    "var output = [];\n",
    "var count = 0;\n",
    "\n",
    "function fizzbuzz(){\n",
    "    \n",
    "    count++;\n",
    "    if (count%3===0 && count%5 ===0){\n",
    "        output.push('fizzbuzz');\n",
    "    }\n",
    "    else if (count%3===0){\n",
    "        output.push('fizz');\n",
    "    }\n",
    "    else if (count%5===0){\n",
    "        output.push('buzz');\n",
    "    }\n",
    "    else {\n",
    "        output.push(count);\n",
    "    }\n",
    "    console.log(output)\n",
    "}"
   ]
  },
  {
   "cell_type": "code",
   "execution_count": 134,
   "metadata": {},
   "outputs": [
    {
     "name": "stdout",
     "output_type": "stream",
     "text": [
      "[\n",
      "  1,          2,\n",
      "  \"fizz\",     4,\n",
      "  \"buzz\",     \"fizz\",\n",
      "  7,          8,\n",
      "  \"fizz\",     \"buzz\",\n",
      "  11,         \"fizz\",\n",
      "  13,         14,\n",
      "  \"fizzbuzz\"\n",
      "]\n"
     ]
    }
   ],
   "source": [
    "fizzbuzz();"
   ]
  },
  {
   "cell_type": "markdown",
   "metadata": {},
   "source": [
    "#### Coding Exercise 6: Who's Buying Lunch? Code Challenge\n",
    "\n",
    "Who's Buying Lunch? Code Challenge\n",
    "\n",
    "You are going to write a function which will select a random name from a list of names. The person selected will have to pay for everybody's food bill.\n",
    "\n",
    "Important: The output should e returned from the function and you do not need alert, prompt or console.log. The output should match the example output exactly, including capitalisation and punctuation.\n",
    "\n",
    "Example Input\n",
    "\n",
    "    [\"Angela\", \"Ben\", \"Jenny\", \"Michael\", \"Chloe\"]\n",
    "\n",
    "Example Output\n",
    "\n",
    "    Michael is going to buy lunch today!\n",
    "\n",
    "\n",
    "Hint\n",
    "\n",
    "1. You might need to think about Array.length.\n",
    "\n",
    "2. Remember that Arrays start at position 0!"
   ]
  },
  {
   "cell_type": "code",
   "execution_count": 181,
   "metadata": {},
   "outputs": [],
   "source": [
    "function whosPaying(names) {\n",
    "    \n",
    "    /******Don't change the code above*******/\n",
    "        \n",
    "        //Write your code here.\n",
    "        \n",
    "        \n",
    "        var randomNum = Math.floor(Math.random()*names.length);\n",
    "        console.log(randomNum)\n",
    "\n",
    "        return names[randomNum]+\" is going to buy lunch today!\"\n",
    "        \n",
    "    \n",
    "    \n",
    "    /******Don't change the code below*******/    \n",
    "    }"
   ]
  },
  {
   "cell_type": "code",
   "execution_count": 193,
   "metadata": {},
   "outputs": [
    {
     "name": "stdout",
     "output_type": "stream",
     "text": [
      "4\n"
     ]
    },
    {
     "data": {
      "text/plain": [
       "\u001b[32m\"Chloe is going to buy lunch today!\"\u001b[39m"
      ]
     },
     "execution_count": 193,
     "metadata": {},
     "output_type": "execute_result"
    }
   ],
   "source": [
    "var names = [\"Angela\", \"Ben\", \"Jenny\", \"Michael\", \"Chloe\"]\n",
    "\n",
    "whosPaying(names)"
   ]
  },
  {
   "cell_type": "markdown",
   "metadata": {},
   "source": [
    "#### 108. Control Statements: While Loops"
   ]
  },
  {
   "cell_type": "code",
   "execution_count": 201,
   "metadata": {},
   "outputs": [],
   "source": [
    "var output = [];\n",
    "var count = 0;\n",
    "\n",
    "function fizzbuzz(upto){\n",
    "    while (count <upto){\n",
    "    count++;\n",
    "    if (count%3===0 && count%5 ===0){\n",
    "        output.push('fizzbuzz');\n",
    "    }\n",
    "    else if (count%3===0){\n",
    "        output.push('fizz');\n",
    "    }\n",
    "    else if (count%5===0){\n",
    "        output.push('buzz');\n",
    "    }\n",
    "    else {\n",
    "        output.push(count);\n",
    "    }\n",
    "    \n",
    "}\n",
    "console.log(output)\n",
    "}"
   ]
  },
  {
   "cell_type": "code",
   "execution_count": 202,
   "metadata": {},
   "outputs": [
    {
     "name": "stdout",
     "output_type": "stream",
     "text": [
      "[\n",
      "  1,          2,          \"fizz\",     4,\n",
      "  \"buzz\",     \"fizz\",     7,          8,\n",
      "  \"fizz\",     \"buzz\",     11,         \"fizz\",\n",
      "  13,         14,         \"fizzbuzz\", 16,\n",
      "  17,         \"fizz\",     19,         \"buzz\",\n",
      "  \"fizz\",     22,         23,         \"fizz\",\n",
      "  \"buzz\",     26,         \"fizz\",     28,\n",
      "  29,         \"fizzbuzz\", 31,         32,\n",
      "  \"fizz\",     34,         \"buzz\",     \"fizz\",\n",
      "  37,         38,         \"fizz\",     \"buzz\",\n",
      "  41,         \"fizz\",     43,         44,\n",
      "  \"fizzbuzz\", 46,         47,         \"fizz\",\n",
      "  49,         \"buzz\"\n",
      "]\n"
     ]
    }
   ],
   "source": [
    "fizzbuzz(50);"
   ]
  },
  {
   "cell_type": "markdown",
   "metadata": {},
   "source": [
    "#### 99 Bottles Challenge\n",
    "\n",
    "This is one of the ways you could have solved the challenge using a while loop. There are many others, as long as you achieve the desired outcome -printing the lyrics to the 99 bottles of beer song- then you are successful! If you've come up with a fancy solution or something different, be sure to share it in the Q&A section for other students to learn from!\n",
    "\n",
    "    var numberOfBottles = 99\n",
    "    while (numberOfBottles >= 0) {\n",
    "        var bottleWord = \"bottle\";\n",
    "        if (numberOfBottles === 1) {\n",
    "            bottleWord = \"bottles\";\n",
    "        } \n",
    "        console.log(numberOfBottles + \" \" + bottleWord + \" of beer on the wall\");\n",
    "        console.log(numberOfBottles + \" \" + bottleWord + \" of beer,\");\n",
    "        console.log(\"Take one down, pass it around,\");\n",
    "    \tnumberOfBottles--;\n",
    "        console.log(numberOfBottles + \" \" + bottleWord + \" of beer on the wall.\");\n",
    "    }\n",
    "\n",
    "If you want to challenge yourself further, try changing the code to make the english more grammatically correct. So the final output should say \"1 bottle of beer on the wall\" when numberOfBottles is equal to 1 rather than \"1 bottles of beer on the wall\" and when numberOfBottles is equal to 0, you can make the output \"No more bottles of beer on the wall\" instead of 0 bottles of beer on the wall\"."
   ]
  },
  {
   "cell_type": "markdown",
   "metadata": {},
   "source": [
    "#### Coding Exercise 7: The Fibonacci Exercise\n",
    "\n",
    "The Fibonacci Exercise\n",
    "\n",
    "Fibonacci was an Italian mathematician who came up with the Fibonacci sequence:\n",
    "\n",
    "0, 1, 1, 2, 3, 5, 8, 13, 21, 34, 55, 89, 144 ...\n",
    "\n",
    "Where every number is the sum of the two previous ones.\n",
    "\n",
    "e.g. 0, 1, 1, 2, 3, 5 comes from\n",
    "\n",
    "0 + 1 = 1\n",
    "\n",
    "1 + 1 = 2\n",
    "\n",
    "1 + 2 = 3\n",
    "\n",
    "2 + 3 = 5\n",
    "\n",
    "etc.\n",
    "\n",
    "Create a function where you can call it by writing the code:\n",
    "\n",
    "fibonacciGenerator (n)\n",
    "\n",
    "Where n is the number of items in the sequence.\n",
    "\n",
    "So I should be able to call:\n",
    "\n",
    "fibonacciGenerator(3) and get\n",
    "\n",
    "[0,1,1]\n",
    "\n",
    "as the output.\n",
    "\n",
    "IMPORTANT: The solution checker is expecting an array as the correct output.\n",
    "\n",
    "Do NOT change any of the existing code.\n",
    "\n",
    "You do NOT need any alerts or prompts, the result should be returned from the function as an output.\n",
    "\n",
    "The first two numbers in the sequence must be 0 and 1.\n",
    "\n",
    "Also, if you decide to create a for loop, make sure you explicitly specify var i = 0 rather than simply writing i = 0 . This is a quirk of the testing suite.\n",
    "\n",
    "e.g. for (var i = 0; i < 10; i ++)\n",
    "\n",
    "\n",
    "HINT: Use this Repl.it Playground to test out your solution.\n",
    "\n",
    "HINT: Use this flow chart to understand the logic if you get stuck."
   ]
  },
  {
   "cell_type": "code",
   "execution_count": 289,
   "metadata": {},
   "outputs": [],
   "source": [
    "function fibonacciGenerator (n) {\n",
    "    //Do NOT change any of the code above 👆\n",
    "        \n",
    "        //Write your code here:\n",
    "        if (n===1){\n",
    "            return [0]\n",
    "        }\n",
    "\n",
    "        else if (n===2){\n",
    "            return [0,1]\n",
    "        }\n",
    "\n",
    "        else {\n",
    "            var sequence = [0,1]\n",
    "            for (var i=1; i<n; i++){\n",
    "                var nextNum = sequence[sequence.length-1] + sequence[sequence.length-2]\n",
    "                sequence.push(nextNum)\n",
    "            }\n",
    "            return sequence\n",
    "\n",
    "        }\n",
    "        \n",
    "    \n",
    "        \n",
    "        \n",
    "        \n",
    "        //Return an array of fibonacci numbers starting from 0.\n",
    "        \n",
    "    //Do NOT change any of the code below 👇\n",
    "    }\n",
    "    \n",
    "    "
   ]
  },
  {
   "cell_type": "code",
   "execution_count": 290,
   "metadata": {},
   "outputs": [
    {
     "data": {
      "text/plain": [
       "[\n",
       "    \u001b[33m0\u001b[39m,  \u001b[33m1\u001b[39m,  \u001b[33m1\u001b[39m,  \u001b[33m2\u001b[39m,  \u001b[33m3\u001b[39m,  \u001b[33m5\u001b[39m,\n",
       "    \u001b[33m8\u001b[39m, \u001b[33m13\u001b[39m, \u001b[33m21\u001b[39m, \u001b[33m34\u001b[39m, \u001b[33m55\u001b[39m, \u001b[33m89\u001b[39m,\n",
       "  \u001b[33m144\u001b[39m\n",
       "]"
      ]
     },
     "execution_count": 290,
     "metadata": {},
     "output_type": "execute_result"
    }
   ],
   "source": [
    "fibonacciGenerator(12);"
   ]
  },
  {
   "cell_type": "code",
   "execution_count": 240,
   "metadata": {},
   "outputs": [
    {
     "data": {
      "text/plain": [
       "[ \u001b[33m0\u001b[39m ]"
      ]
     },
     "execution_count": 240,
     "metadata": {},
     "output_type": "execute_result"
    }
   ],
   "source": [
    "seq = [\n",
    "    0\n",
    "];"
   ]
  },
  {
   "cell_type": "code",
   "execution_count": 8,
   "metadata": {},
   "outputs": [],
   "source": [
    "function nextSequence(){\n",
    "    var randNumber = Math.floor(Math.random()*3);\n",
    "    return randNumber\n",
    "\n",
    "}"
   ]
  },
  {
   "cell_type": "code",
   "execution_count": 27,
   "metadata": {},
   "outputs": [],
   "source": [
    "var buttonColours = [\"red\", \"blue\", \"green\", \"yellow\"];\n",
    "var gamePattern = [];\n",
    "\n",
    "function nextSequence() {\n",
    "    var randNumber = Math.floor(Math.random() * 4) + 1;\n",
    "    return randNumber\n",
    "\n",
    "}\n",
    "\n",
    "var randomChosenColour = buttonColours[nextSequence()];\n",
    "\n",
    "gamePattern.push(randomChosenColour)\n"
   ]
  }
 ],
 "metadata": {
  "kernelspec": {
   "display_name": "Deno",
   "language": "typescript",
   "name": "deno"
  },
  "language_info": {
   "codemirror_mode": "typescript",
   "file_extension": ".ts",
   "mimetype": "text/x.typescript",
   "name": "typescript",
   "nbconvert_exporter": "script",
   "pygments_lexer": "typescript",
   "version": "5.6.2"
  }
 },
 "nbformat": 4,
 "nbformat_minor": 2
}
