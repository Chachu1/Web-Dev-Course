{
 "cells": [
  {
   "cell_type": "code",
   "execution_count": 1,
   "metadata": {},
   "outputs": [
    {
     "name": "stdout",
     "output_type": "stream",
     "text": [
      "Hellow World\n"
     ]
    }
   ],
   "source": [
    "console.log('Hellow World')"
   ]
  },
  {
   "cell_type": "code",
   "execution_count": 10,
   "metadata": {},
   "outputs": [],
   "source": [
    "var nameVar = 'mohsin hassan';"
   ]
  },
  {
   "cell_type": "code",
   "execution_count": 29,
   "metadata": {},
   "outputs": [
    {
     "name": "stdout",
     "output_type": "stream",
     "text": [
      "Mohsin\n"
     ]
    }
   ],
   "source": [
    "var name = prompt('What is your name?');\n",
    "var firstChar = name.slice(0,1);\n",
    "firstChar = firstChar.toUpperCase();\n",
    "var allOtherChar = name.slice(1,name.length);\n",
    "console.log(\n",
    "    firstChar + allOtherChar\n",
    ");\n"
   ]
  },
  {
   "cell_type": "markdown",
   "metadata": {},
   "source": [
    "### 87. Basic Arithmetic and the Modulo Operator in Javascript"
   ]
  },
  {
   "cell_type": "markdown",
   "metadata": {},
   "source": [
    " - Calcuate DogYears \\\n",
    " humanAge = (dogAge - 2) X 4 + 21"
   ]
  },
  {
   "cell_type": "code",
   "execution_count": 2,
   "metadata": {},
   "outputs": [
    {
     "name": "stdout",
     "output_type": "stream",
     "text": [
      "41\n"
     ]
    }
   ],
   "source": [
    "var dogAge = prompt(\"Please enter your Dogs Age\");\n",
    "var humanAge = ((dogAge - 2)*4 )+21\n",
    "console.log(humanAge)"
   ]
  },
  {
   "cell_type": "markdown",
   "metadata": {},
   "source": [
    "### 88. Increment and Decrement Expressions"
   ]
  },
  {
   "cell_type": "code",
   "execution_count": 3,
   "metadata": {},
   "outputs": [
    {
     "data": {
      "text/plain": [
       "\u001b[33m4\u001b[39m"
      ]
     },
     "execution_count": 3,
     "metadata": {},
     "output_type": "execute_result"
    }
   ],
   "source": [
    "var x = 3;\n",
    "var y = x++;\n",
    "y += 1;\n",
    "y"
   ]
  },
  {
   "cell_type": "markdown",
   "metadata": {},
   "source": [
    "### 89. Functions Part 1: Creating and Calling Functions"
   ]
  },
  {
   "cell_type": "markdown",
   "metadata": {},
   "source": [
    "### 93. Functions Part 2: Parameters and Arguments\n"
   ]
  },
  {
   "cell_type": "code",
   "execution_count": 11,
   "metadata": {},
   "outputs": [],
   "source": [
    "function getMilk(money) {\n",
    "    //Each bottle is 1.5  \n",
    "    var changeBack = money % 1.5;\n",
    "    var numberOfBottles = (money - changeBack) / 1.5;\n",
    "    \n",
    "    console.log(\"leaveHouse\");\n",
    "    console.log(\"Buy \" + numberOfBottles + \" bottles of Milk\" );\n",
    "    console.log(\"enterHouse\");\n",
    "    console.log(\"Your change is \" + changeBack);\n",
    "  }"
   ]
  },
  {
   "cell_type": "code",
   "execution_count": 12,
   "metadata": {},
   "outputs": [
    {
     "name": "stdout",
     "output_type": "stream",
     "text": [
      "leaveHouse\n",
      "Buy 8 bottles of Milk\n",
      "enterHouse\n",
      "Your change is 1\n"
     ]
    }
   ],
   "source": [
    "getMilk(13);"
   ]
  },
  {
   "cell_type": "code",
   "execution_count": 15,
   "metadata": {},
   "outputs": [],
   "source": [
    "function getMilk(money) {\n",
    "    //Each bottle is 1.5  \n",
    "    var changeBack = money % 1.5;\n",
    "    var numberOfBottles = Math.floor(money / 1.5);\n",
    "    \n",
    "    console.log(\"leaveHouse\");\n",
    "    console.log(\"Buy \" + numberOfBottles + \" bottles of Milk\" );\n",
    "    console.log(\"enterHouse\");\n",
    "    console.log(\"Your change is \" + changeBack);\n",
    "  }"
   ]
  },
  {
   "cell_type": "code",
   "execution_count": 16,
   "metadata": {},
   "outputs": [
    {
     "name": "stdout",
     "output_type": "stream",
     "text": [
      "leaveHouse\n",
      "Buy 8 bottles of Milk\n",
      "enterHouse\n",
      "Your change is 1\n"
     ]
    }
   ],
   "source": [
    "getMilk(13);"
   ]
  },
  {
   "cell_type": "markdown",
   "metadata": {},
   "source": [
    "#### 94. Life in Weeks"
   ]
  },
  {
   "cell_type": "code",
   "execution_count": 19,
   "metadata": {},
   "outputs": [],
   "source": [
    "function lifeInWeeks(age){\n",
    "    var balanceAge = 90 - age;\n",
    "    var days = balanceAge * 365;\n",
    "    var weeks = balanceAge * 52;\n",
    "    var months = balanceAge * 12;\n",
    "\n",
    "    console.log(\"You have \" + days +\" days, \"+weeks+\" weeks, and \"+months+\" months left.\")\n",
    "\n",
    "}"
   ]
  },
  {
   "cell_type": "code",
   "execution_count": 20,
   "metadata": {},
   "outputs": [
    {
     "name": "stdout",
     "output_type": "stream",
     "text": [
      "You have 18980 days, 2704 weeks, and 624 months left.\n"
     ]
    }
   ],
   "source": [
    "lifeInWeeks(38)"
   ]
  },
  {
   "cell_type": "markdown",
   "metadata": {},
   "source": [
    "#### 95. Functions Part 3: Outputs & Return Values"
   ]
  },
  {
   "cell_type": "code",
   "execution_count": 21,
   "metadata": {},
   "outputs": [],
   "source": [
    "function getMilk(money) {\n",
    "    //Each bottle is 1.5  \n",
    "    var changeBack = money % 1.5;\n",
    "    var numberOfBottles = (money - changeBack) / 1.5;\n",
    "    \n",
    "    console.log(\"leaveHouse\");\n",
    "    console.log(\"Buy \" + numberOfBottles + \" bottles of Milk\" );\n",
    "    console.log(\"enterHouse\");\n",
    "    console.log(\"Your change is \" + changeBack);\n",
    "    return changeBack;\n",
    "  }"
   ]
  },
  {
   "cell_type": "code",
   "execution_count": 23,
   "metadata": {},
   "outputs": [
    {
     "name": "stdout",
     "output_type": "stream",
     "text": [
      "leaveHouse\n",
      "Buy 20 bottles of Milk\n",
      "enterHouse\n",
      "Your change is 1\n"
     ]
    },
    {
     "data": {
      "text/plain": [
       "\u001b[33m1\u001b[39m"
      ]
     },
     "execution_count": 23,
     "metadata": {},
     "output_type": "execute_result"
    }
   ],
   "source": [
    "var change = getMilk(31);\n",
    "change"
   ]
  },
  {
   "cell_type": "markdown",
   "metadata": {},
   "source": [
    "#### 96. Challenge: Create a BMI Calculator"
   ]
  },
  {
   "cell_type": "code",
   "execution_count": 30,
   "metadata": {
    "vscode": {
     "languageId": "javascript"
    }
   },
   "outputs": [],
   "source": [
    "function bmiCalculator(weight, height){\n",
    "    var bmi = weight / Math.pow(height,2)\n",
    "    return Math.round( bmi)\n",
    "}"
   ]
  },
  {
   "cell_type": "markdown",
   "metadata": {},
   "source": [
    "#### 99. Random Number Generation in Javascript: Building a Love Calculator"
   ]
  },
  {
   "cell_type": "code",
   "execution_count": 9,
   "metadata": {},
   "outputs": [],
   "source": [
    "function loveCalculator(){\n",
    "    prompt(\"What is your name\");\n",
    "    prompt(\"Second Name\");\n",
    "    var randomNum = Math.random()*100;\n",
    "    randomNum = Math.floor(randomNum)\n",
    "\n",
    "    return randomNum+\"%\" \n",
    "}"
   ]
  },
  {
   "cell_type": "markdown",
   "metadata": {},
   "source": [
    "#### Coding Exercise 5: Leap Year Challenge Exercise"
   ]
  },
  {
   "cell_type": "code",
   "execution_count": 26,
   "metadata": {},
   "outputs": [],
   "source": [
    "function isLeap(year){\n",
    "    if (year%4 === 0) {\n",
    "        if (year%100 === 0){\n",
    "            if (year%400 === 0){\n",
    "                return 'Leap year.'\n",
    "            }\n",
    "            else {\n",
    "                return 'Not leap year.'\n",
    "            }\n",
    "\n",
    "        }\n",
    "        else { return 'Leap year.'}\n",
    "    }\n",
    "    else { return \"Not leap year.\"}\n",
    "\n",
    "\n",
    "}"
   ]
  },
  {
   "cell_type": "markdown",
   "metadata": {},
   "source": [
    "#### 105. Collections: Working with Javascript Arrays\n"
   ]
  },
  {
   "cell_type": "code",
   "execution_count": 30,
   "metadata": {},
   "outputs": [
    {
     "name": "stdout",
     "output_type": "stream",
     "text": [
      "Welcome\n"
     ]
    }
   ],
   "source": [
    "var guestList = [\n",
    "    \"Angela\",\n",
    "    \"Jack\",\n",
    "    \"Pam\",\n",
    "    \"James\",\n",
    "    \"Lara\",\n",
    "    \"Jason\"\n",
    "];\n",
    "\n",
    "var guestName = prompt(\"What is your name\");\n",
    "if (guestList.includes(guestName)){\n",
    "    console.log(\"Welcome\")\n",
    "}\n",
    "else {console.log(\"Sorry not on list\")}"
   ]
  },
  {
   "cell_type": "markdown",
   "metadata": {},
   "source": [
    "#### 106. Adding Elements and Intermediate Array Techniques"
   ]
  },
  {
   "cell_type": "code",
   "execution_count": 119,
   "metadata": {},
   "outputs": [],
   "source": [
    "var output = [];\n",
    "var count = 0;\n",
    "\n",
    "function fizzbuzz(){\n",
    "    \n",
    "    count++;\n",
    "    if (count%3===0 && count%5 ===0){\n",
    "        output.push('fizzbuzz');\n",
    "    }\n",
    "    else if (count%3===0){\n",
    "        output.push('fizz');\n",
    "    }\n",
    "    else if (count%5===0){\n",
    "        output.push('buzz');\n",
    "    }\n",
    "    else {\n",
    "        output.push(count);\n",
    "    }\n",
    "    console.log(output)\n",
    "}"
   ]
  },
  {
   "cell_type": "code",
   "execution_count": 134,
   "metadata": {},
   "outputs": [
    {
     "name": "stdout",
     "output_type": "stream",
     "text": [
      "[\n",
      "  1,          2,\n",
      "  \"fizz\",     4,\n",
      "  \"buzz\",     \"fizz\",\n",
      "  7,          8,\n",
      "  \"fizz\",     \"buzz\",\n",
      "  11,         \"fizz\",\n",
      "  13,         14,\n",
      "  \"fizzbuzz\"\n",
      "]\n"
     ]
    }
   ],
   "source": [
    "fizzbuzz();"
   ]
  },
  {
   "cell_type": "markdown",
   "metadata": {},
   "source": [
    "#### Coding Exercise 6: Who's Buying Lunch? Code Challenge\n",
    "\n",
    "Who's Buying Lunch? Code Challenge\n",
    "\n",
    "You are going to write a function which will select a random name from a list of names. The person selected will have to pay for everybody's food bill.\n",
    "\n",
    "Important: The output should e returned from the function and you do not need alert, prompt or console.log. The output should match the example output exactly, including capitalisation and punctuation.\n",
    "\n",
    "Example Input\n",
    "\n",
    "    [\"Angela\", \"Ben\", \"Jenny\", \"Michael\", \"Chloe\"]\n",
    "\n",
    "Example Output\n",
    "\n",
    "    Michael is going to buy lunch today!\n",
    "\n",
    "\n",
    "Hint\n",
    "\n",
    "1. You might need to think about Array.length.\n",
    "\n",
    "2. Remember that Arrays start at position 0!"
   ]
  },
  {
   "cell_type": "code",
   "execution_count": 181,
   "metadata": {},
   "outputs": [],
   "source": [
    "function whosPaying(names) {\n",
    "    \n",
    "    /******Don't change the code above*******/\n",
    "        \n",
    "        //Write your code here.\n",
    "        \n",
    "        \n",
    "        var randomNum = Math.floor(Math.random()*names.length);\n",
    "        console.log(randomNum)\n",
    "\n",
    "        return names[randomNum]+\" is going to buy lunch today!\"\n",
    "        \n",
    "    \n",
    "    \n",
    "    /******Don't change the code below*******/    \n",
    "    }"
   ]
  },
  {
   "cell_type": "code",
   "execution_count": 193,
   "metadata": {},
   "outputs": [
    {
     "name": "stdout",
     "output_type": "stream",
     "text": [
      "4\n"
     ]
    },
    {
     "data": {
      "text/plain": [
       "\u001b[32m\"Chloe is going to buy lunch today!\"\u001b[39m"
      ]
     },
     "execution_count": 193,
     "metadata": {},
     "output_type": "execute_result"
    }
   ],
   "source": [
    "var names = [\"Angela\", \"Ben\", \"Jenny\", \"Michael\", \"Chloe\"]\n",
    "\n",
    "whosPaying(names)"
   ]
  }
 ],
 "metadata": {
  "kernelspec": {
   "display_name": "Deno",
   "language": "typescript",
   "name": "deno"
  },
  "language_info": {
   "codemirror_mode": "typescript",
   "file_extension": ".ts",
   "mimetype": "text/x.typescript",
   "name": "typescript",
   "nbconvert_exporter": "script",
   "pygments_lexer": "typescript",
   "version": "5.6.2"
  }
 },
 "nbformat": 4,
 "nbformat_minor": 2
}
